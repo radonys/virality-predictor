{
  "nbformat": 4,
  "nbformat_minor": 0,
  "metadata": {
    "colab": {
      "name": "Virality_Predictor.ipynb",
      "provenance": [],
      "collapsed_sections": [
        "3QWHTOK_dTdw",
        "UPV2WahjeHkr",
        "OdO9HG5_nGH6",
        "i00UowKlnJO9",
        "GbSubw9ievMf",
        "hhRUQAZXe0K6",
        "Op_yL8vUkcrY",
        "q4r-byIHrOmd",
        "j6-FlLwnnbIy",
        "viUhq2UQm_6B",
        "99GEekPoXihh",
        "KFXLbo6CN85e",
        "Gw6O9D8qOELC",
        "f2h_ux7_Oe4Y",
        "EUvd6hafXCVs",
        "FrcyUWarPlu-",
        "y5hRPFLxQnfU",
        "QXe-k2UtRaJb",
        "DHO2nPfXRhAw",
        "o6ylN1YQScPv",
        "wLZhtVNgb3Us",
        "vG5P4Rd7WtbX",
        "dsbBxwANduC6",
        "gtJJ0LTvkm4b",
        "u-lcE6sOlHen",
        "BPTWm2leluUR",
        "vNjXR_RXboNZ",
        "ZKZBtIrWb5Xe",
        "JnBGG2bw8BKr",
        "EAGWQktT7U9H"
      ],
      "toc_visible": true,
      "authorship_tag": "ABX9TyPBIE59/ctOeQpWzc2x56Rb",
      "include_colab_link": true
    },
    "kernelspec": {
      "name": "python3",
      "display_name": "Python 3"
    }
  },
  "cells": [
    {
      "cell_type": "markdown",
      "metadata": {
        "id": "view-in-github",
        "colab_type": "text"
      },
      "source": [
        "<a href=\"https://colab.research.google.com/github/radonys/virality-predictor/blob/dev/Virality_Predictor.ipynb\" target=\"_parent\"><img src=\"https://colab.research.google.com/assets/colab-badge.svg\" alt=\"Open In Colab\"/></a>"
      ]
    },
    {
      "cell_type": "markdown",
      "metadata": {
        "id": "MF4eVWSxdB31"
      },
      "source": [
        "# Virality Predictor"
      ]
    },
    {
      "cell_type": "markdown",
      "metadata": {
        "id": "3QWHTOK_dTdw"
      },
      "source": [
        "### Import Modules"
      ]
    },
    {
      "cell_type": "code",
      "metadata": {
        "id": "zrZ0ATlwc2WI",
        "outputId": "9a7d50bd-314e-47bb-9cfe-c98a92d396e0",
        "colab": {
          "base_uri": "https://localhost:8080/"
        }
      },
      "source": [
        "import os\n",
        "import pandas as pd\n",
        "from datetime import datetime\n",
        "import numpy as np\n",
        "\n",
        "import gensim\n",
        "from gensim.utils import simple_preprocess\n",
        "from gensim.parsing.porter import PorterStemmer\n",
        "\n",
        "import re\n",
        "from bs4 import BeautifulSoup\n",
        "\n",
        "import nltk\n",
        "nltk.download('stopwords')\n",
        "from nltk.corpus import stopwords\n",
        "\n",
        "import matplotlib.pyplot as plt\n",
        "import seaborn as sns\n",
        "\n",
        "from sklearn.model_selection import train_test_split\n",
        "from sklearn.metrics import accuracy_score, confusion_matrix\n",
        "from sklearn.pipeline import Pipeline\n",
        "from sklearn.feature_extraction.text import TfidfVectorizer\n",
        "from sklearn.metrics import mean_absolute_error, mean_squared_error, r2_score\n",
        "\n",
        "from sklearn.linear_model import LinearRegression, Lasso\n",
        "from sklearn.ensemble import RandomForestRegressor\n",
        "from sklearn.preprocessing import PolynomialFeatures"
      ],
      "execution_count": null,
      "outputs": [
        {
          "output_type": "stream",
          "text": [
            "[nltk_data] Downloading package stopwords to /root/nltk_data...\n",
            "[nltk_data]   Unzipping corpora/stopwords.zip.\n"
          ],
          "name": "stdout"
        }
      ]
    },
    {
      "cell_type": "markdown",
      "metadata": {
        "id": "UPV2WahjeHkr"
      },
      "source": [
        "### Load Data"
      ]
    },
    {
      "cell_type": "markdown",
      "metadata": {
        "id": "OdO9HG5_nGH6"
      },
      "source": [
        "#### Shared Articles"
      ]
    },
    {
      "cell_type": "code",
      "metadata": {
        "id": "MpdHvroGeJcA",
        "outputId": "b5e89968-e316-4189-987e-55f02736e264",
        "colab": {
          "base_uri": "https://localhost:8080/"
        }
      },
      "source": [
        "articles = pd.read_csv(\"/content/shared_articles.csv\")\n",
        "articles.shape"
      ],
      "execution_count": null,
      "outputs": [
        {
          "output_type": "execute_result",
          "data": {
            "text/plain": [
              "(3122, 13)"
            ]
          },
          "metadata": {
            "tags": []
          },
          "execution_count": 2
        }
      ]
    },
    {
      "cell_type": "markdown",
      "metadata": {
        "id": "i00UowKlnJO9"
      },
      "source": [
        "#### User Interactions"
      ]
    },
    {
      "cell_type": "code",
      "metadata": {
        "id": "XvjZ378FedRX",
        "outputId": "a622a6d9-61ea-4ddd-d099-811f8967b4c3",
        "colab": {
          "base_uri": "https://localhost:8080/"
        }
      },
      "source": [
        "interactions = pd.read_csv(\"/content/users_interactions.csv\")\n",
        "len(interactions['contentId'].unique())"
      ],
      "execution_count": null,
      "outputs": [
        {
          "output_type": "execute_result",
          "data": {
            "text/plain": [
              "2987"
            ]
          },
          "metadata": {
            "tags": []
          },
          "execution_count": 3
        }
      ]
    },
    {
      "cell_type": "markdown",
      "metadata": {
        "id": "GbSubw9ievMf"
      },
      "source": [
        "### Process and Analyse Data"
      ]
    },
    {
      "cell_type": "markdown",
      "metadata": {
        "id": "hhRUQAZXe0K6"
      },
      "source": [
        "#### Count Views, Likes, Comments, Follows and Bookmarks for each ContentID"
      ]
    },
    {
      "cell_type": "code",
      "metadata": {
        "id": "B4p4a2bBeyRe",
        "outputId": "90a10847-6bb1-41e9-e1cb-3e97fac7dfc6",
        "colab": {
          "base_uri": "https://localhost:8080/"
        }
      },
      "source": [
        "counts = interactions[['contentId', 'eventType', 'timestamp']].groupby(['contentId', 'eventType']).count()\n",
        "counts.columns = ['count']\n",
        "\n",
        "counts = pd.pivot_table(counts, values=['count'], index=['contentId'], columns=['eventType'], fill_value=0)['count']\n",
        "counts.reset_index(inplace=True)\n",
        "counts.head()"
      ],
      "execution_count": null,
      "outputs": [
        {
          "output_type": "execute_result",
          "data": {
            "text/html": [
              "<div>\n",
              "<style scoped>\n",
              "    .dataframe tbody tr th:only-of-type {\n",
              "        vertical-align: middle;\n",
              "    }\n",
              "\n",
              "    .dataframe tbody tr th {\n",
              "        vertical-align: top;\n",
              "    }\n",
              "\n",
              "    .dataframe thead th {\n",
              "        text-align: right;\n",
              "    }\n",
              "</style>\n",
              "<table border=\"1\" class=\"dataframe\">\n",
              "  <thead>\n",
              "    <tr style=\"text-align: right;\">\n",
              "      <th>eventType</th>\n",
              "      <th>contentId</th>\n",
              "      <th>BOOKMARK</th>\n",
              "      <th>COMMENT CREATED</th>\n",
              "      <th>FOLLOW</th>\n",
              "      <th>LIKE</th>\n",
              "      <th>VIEW</th>\n",
              "    </tr>\n",
              "  </thead>\n",
              "  <tbody>\n",
              "    <tr>\n",
              "      <th>0</th>\n",
              "      <td>-9222795471790223670</td>\n",
              "      <td>1</td>\n",
              "      <td>2</td>\n",
              "      <td>3</td>\n",
              "      <td>4</td>\n",
              "      <td>16</td>\n",
              "    </tr>\n",
              "    <tr>\n",
              "      <th>1</th>\n",
              "      <td>-9216926795620865886</td>\n",
              "      <td>1</td>\n",
              "      <td>1</td>\n",
              "      <td>1</td>\n",
              "      <td>3</td>\n",
              "      <td>15</td>\n",
              "    </tr>\n",
              "    <tr>\n",
              "      <th>2</th>\n",
              "      <td>-9194572880052200111</td>\n",
              "      <td>2</td>\n",
              "      <td>1</td>\n",
              "      <td>1</td>\n",
              "      <td>4</td>\n",
              "      <td>21</td>\n",
              "    </tr>\n",
              "    <tr>\n",
              "      <th>3</th>\n",
              "      <td>-9192549002213406534</td>\n",
              "      <td>0</td>\n",
              "      <td>1</td>\n",
              "      <td>0</td>\n",
              "      <td>5</td>\n",
              "      <td>50</td>\n",
              "    </tr>\n",
              "    <tr>\n",
              "      <th>4</th>\n",
              "      <td>-9190737901804729417</td>\n",
              "      <td>0</td>\n",
              "      <td>0</td>\n",
              "      <td>0</td>\n",
              "      <td>1</td>\n",
              "      <td>8</td>\n",
              "    </tr>\n",
              "  </tbody>\n",
              "</table>\n",
              "</div>"
            ],
            "text/plain": [
              "eventType            contentId  BOOKMARK  COMMENT CREATED  FOLLOW  LIKE  VIEW\n",
              "0         -9222795471790223670         1                2       3     4    16\n",
              "1         -9216926795620865886         1                1       1     3    15\n",
              "2         -9194572880052200111         2                1       1     4    21\n",
              "3         -9192549002213406534         0                1       0     5    50\n",
              "4         -9190737901804729417         0                0       0     1     8"
            ]
          },
          "metadata": {
            "tags": []
          },
          "execution_count": 4
        }
      ]
    },
    {
      "cell_type": "markdown",
      "metadata": {
        "id": "Op_yL8vUkcrY"
      },
      "source": [
        "#### Calculate Virality\n",
        "\n",
        "**Given Formulation: VIRALITY = 1 * VIEW + 4 * LIKE + 10 * COMMENT + 25 * FOLLOW + 100 * BOOKMARK**"
      ]
    },
    {
      "cell_type": "code",
      "metadata": {
        "id": "DEn5uukyker7",
        "outputId": "a013fa1f-be86-48e8-bf5a-91e735c8badc",
        "colab": {
          "base_uri": "https://localhost:8080/"
        }
      },
      "source": [
        "counts['VIRALITY'] = 1*counts['VIEW'] + 4*counts['LIKE'] + 10*counts['COMMENT CREATED'] + 25*counts['FOLLOW'] + 100*counts['BOOKMARK']\n",
        "counts.head()"
      ],
      "execution_count": null,
      "outputs": [
        {
          "output_type": "execute_result",
          "data": {
            "text/html": [
              "<div>\n",
              "<style scoped>\n",
              "    .dataframe tbody tr th:only-of-type {\n",
              "        vertical-align: middle;\n",
              "    }\n",
              "\n",
              "    .dataframe tbody tr th {\n",
              "        vertical-align: top;\n",
              "    }\n",
              "\n",
              "    .dataframe thead th {\n",
              "        text-align: right;\n",
              "    }\n",
              "</style>\n",
              "<table border=\"1\" class=\"dataframe\">\n",
              "  <thead>\n",
              "    <tr style=\"text-align: right;\">\n",
              "      <th>eventType</th>\n",
              "      <th>contentId</th>\n",
              "      <th>BOOKMARK</th>\n",
              "      <th>COMMENT CREATED</th>\n",
              "      <th>FOLLOW</th>\n",
              "      <th>LIKE</th>\n",
              "      <th>VIEW</th>\n",
              "      <th>VIRALITY</th>\n",
              "    </tr>\n",
              "  </thead>\n",
              "  <tbody>\n",
              "    <tr>\n",
              "      <th>0</th>\n",
              "      <td>-9222795471790223670</td>\n",
              "      <td>1</td>\n",
              "      <td>2</td>\n",
              "      <td>3</td>\n",
              "      <td>4</td>\n",
              "      <td>16</td>\n",
              "      <td>227</td>\n",
              "    </tr>\n",
              "    <tr>\n",
              "      <th>1</th>\n",
              "      <td>-9216926795620865886</td>\n",
              "      <td>1</td>\n",
              "      <td>1</td>\n",
              "      <td>1</td>\n",
              "      <td>3</td>\n",
              "      <td>15</td>\n",
              "      <td>162</td>\n",
              "    </tr>\n",
              "    <tr>\n",
              "      <th>2</th>\n",
              "      <td>-9194572880052200111</td>\n",
              "      <td>2</td>\n",
              "      <td>1</td>\n",
              "      <td>1</td>\n",
              "      <td>4</td>\n",
              "      <td>21</td>\n",
              "      <td>272</td>\n",
              "    </tr>\n",
              "    <tr>\n",
              "      <th>3</th>\n",
              "      <td>-9192549002213406534</td>\n",
              "      <td>0</td>\n",
              "      <td>1</td>\n",
              "      <td>0</td>\n",
              "      <td>5</td>\n",
              "      <td>50</td>\n",
              "      <td>80</td>\n",
              "    </tr>\n",
              "    <tr>\n",
              "      <th>4</th>\n",
              "      <td>-9190737901804729417</td>\n",
              "      <td>0</td>\n",
              "      <td>0</td>\n",
              "      <td>0</td>\n",
              "      <td>1</td>\n",
              "      <td>8</td>\n",
              "      <td>12</td>\n",
              "    </tr>\n",
              "  </tbody>\n",
              "</table>\n",
              "</div>"
            ],
            "text/plain": [
              "eventType            contentId  BOOKMARK  COMMENT CREATED  ...  LIKE  VIEW  VIRALITY\n",
              "0         -9222795471790223670         1                2  ...     4    16       227\n",
              "1         -9216926795620865886         1                1  ...     3    15       162\n",
              "2         -9194572880052200111         2                1  ...     4    21       272\n",
              "3         -9192549002213406534         0                1  ...     5    50        80\n",
              "4         -9190737901804729417         0                0  ...     1     8        12\n",
              "\n",
              "[5 rows x 7 columns]"
            ]
          },
          "metadata": {
            "tags": []
          },
          "execution_count": 5
        }
      ]
    },
    {
      "cell_type": "markdown",
      "metadata": {
        "id": "q4r-byIHrOmd"
      },
      "source": [
        "#### Analyse Distribution of Count Data"
      ]
    },
    {
      "cell_type": "code",
      "metadata": {
        "id": "rY-va1CBrVVR",
        "outputId": "e4246344-3ce9-4b10-e6e8-55770dadd622",
        "colab": {
          "base_uri": "https://localhost:8080/"
        }
      },
      "source": [
        "counts.describe()"
      ],
      "execution_count": null,
      "outputs": [
        {
          "output_type": "execute_result",
          "data": {
            "text/html": [
              "<div>\n",
              "<style scoped>\n",
              "    .dataframe tbody tr th:only-of-type {\n",
              "        vertical-align: middle;\n",
              "    }\n",
              "\n",
              "    .dataframe tbody tr th {\n",
              "        vertical-align: top;\n",
              "    }\n",
              "\n",
              "    .dataframe thead th {\n",
              "        text-align: right;\n",
              "    }\n",
              "</style>\n",
              "<table border=\"1\" class=\"dataframe\">\n",
              "  <thead>\n",
              "    <tr style=\"text-align: right;\">\n",
              "      <th>eventType</th>\n",
              "      <th>contentId</th>\n",
              "      <th>BOOKMARK</th>\n",
              "      <th>COMMENT CREATED</th>\n",
              "      <th>FOLLOW</th>\n",
              "      <th>LIKE</th>\n",
              "      <th>VIEW</th>\n",
              "      <th>VIRALITY</th>\n",
              "    </tr>\n",
              "  </thead>\n",
              "  <tbody>\n",
              "    <tr>\n",
              "      <th>count</th>\n",
              "      <td>2.987000e+03</td>\n",
              "      <td>2987.000000</td>\n",
              "      <td>2987.000000</td>\n",
              "      <td>2987.000000</td>\n",
              "      <td>2987.000000</td>\n",
              "      <td>2987.000000</td>\n",
              "      <td>2987.000000</td>\n",
              "    </tr>\n",
              "    <tr>\n",
              "      <th>mean</th>\n",
              "      <td>1.906772e+16</td>\n",
              "      <td>0.824573</td>\n",
              "      <td>0.539337</td>\n",
              "      <td>0.471041</td>\n",
              "      <td>1.923334</td>\n",
              "      <td>20.450619</td>\n",
              "      <td>127.770673</td>\n",
              "    </tr>\n",
              "    <tr>\n",
              "      <th>std</th>\n",
              "      <td>5.382564e+18</td>\n",
              "      <td>2.231426</td>\n",
              "      <td>1.292221</td>\n",
              "      <td>1.076175</td>\n",
              "      <td>3.368695</td>\n",
              "      <td>27.199921</td>\n",
              "      <td>259.044552</td>\n",
              "    </tr>\n",
              "    <tr>\n",
              "      <th>min</th>\n",
              "      <td>-9.222795e+18</td>\n",
              "      <td>0.000000</td>\n",
              "      <td>0.000000</td>\n",
              "      <td>0.000000</td>\n",
              "      <td>0.000000</td>\n",
              "      <td>0.000000</td>\n",
              "      <td>1.000000</td>\n",
              "    </tr>\n",
              "    <tr>\n",
              "      <th>25%</th>\n",
              "      <td>-4.685855e+18</td>\n",
              "      <td>0.000000</td>\n",
              "      <td>0.000000</td>\n",
              "      <td>0.000000</td>\n",
              "      <td>0.000000</td>\n",
              "      <td>5.000000</td>\n",
              "      <td>8.000000</td>\n",
              "    </tr>\n",
              "    <tr>\n",
              "      <th>50%</th>\n",
              "      <td>3.134908e+16</td>\n",
              "      <td>0.000000</td>\n",
              "      <td>0.000000</td>\n",
              "      <td>0.000000</td>\n",
              "      <td>1.000000</td>\n",
              "      <td>12.000000</td>\n",
              "      <td>43.000000</td>\n",
              "    </tr>\n",
              "    <tr>\n",
              "      <th>75%</th>\n",
              "      <td>4.716572e+18</td>\n",
              "      <td>1.000000</td>\n",
              "      <td>1.000000</td>\n",
              "      <td>1.000000</td>\n",
              "      <td>2.000000</td>\n",
              "      <td>25.000000</td>\n",
              "      <td>150.000000</td>\n",
              "    </tr>\n",
              "    <tr>\n",
              "      <th>max</th>\n",
              "      <td>9.222265e+18</td>\n",
              "      <td>78.000000</td>\n",
              "      <td>13.000000</td>\n",
              "      <td>14.000000</td>\n",
              "      <td>53.000000</td>\n",
              "      <td>355.000000</td>\n",
              "      <td>7907.000000</td>\n",
              "    </tr>\n",
              "  </tbody>\n",
              "</table>\n",
              "</div>"
            ],
            "text/plain": [
              "eventType     contentId     BOOKMARK  ...         VIEW     VIRALITY\n",
              "count      2.987000e+03  2987.000000  ...  2987.000000  2987.000000\n",
              "mean       1.906772e+16     0.824573  ...    20.450619   127.770673\n",
              "std        5.382564e+18     2.231426  ...    27.199921   259.044552\n",
              "min       -9.222795e+18     0.000000  ...     0.000000     1.000000\n",
              "25%       -4.685855e+18     0.000000  ...     5.000000     8.000000\n",
              "50%        3.134908e+16     0.000000  ...    12.000000    43.000000\n",
              "75%        4.716572e+18     1.000000  ...    25.000000   150.000000\n",
              "max        9.222265e+18    78.000000  ...   355.000000  7907.000000\n",
              "\n",
              "[8 rows x 7 columns]"
            ]
          },
          "metadata": {
            "tags": []
          },
          "execution_count": 6
        }
      ]
    },
    {
      "cell_type": "markdown",
      "metadata": {
        "id": "j6-FlLwnnbIy"
      },
      "source": [
        "#### Analyse ContentIDs in articles and user interactions"
      ]
    },
    {
      "cell_type": "code",
      "metadata": {
        "id": "KgoJQ_1dni5E",
        "outputId": "d9988876-b908-4bd6-c11e-4841884b16b6",
        "colab": {
          "base_uri": "https://localhost:8080/"
        }
      },
      "source": [
        "article_unique = set(articles['contentId'])\n",
        "interactions_unique = set(counts['contentId'])\n",
        "\n",
        "print(\"Number of unique ContentID in articles: \", len(article_unique))\n",
        "print(\"Number of ContentID in counts: \", len(interactions_unique))"
      ],
      "execution_count": null,
      "outputs": [
        {
          "output_type": "stream",
          "text": [
            "Number of unique ContentID in articles:  3057\n",
            "Number of ContentID in counts:  2987\n"
          ],
          "name": "stdout"
        }
      ]
    },
    {
      "cell_type": "code",
      "metadata": {
        "id": "lE9vZ64RoA0Q",
        "outputId": "61f00028-f449-4d14-c8e9-bb2e65b1b5eb",
        "colab": {
          "base_uri": "https://localhost:8080/"
        }
      },
      "source": [
        "content_ids_not_available = article_unique.difference(interactions_unique)\n",
        "print(\"Number of ContentID not present in interactions: \", len(content_ids_not_available))\n",
        "\n",
        "content_ids_not_available = interactions_unique.difference(article_unique)\n",
        "print(\"Number of ContentID not present in articles: \", len(content_ids_not_available))"
      ],
      "execution_count": null,
      "outputs": [
        {
          "output_type": "stream",
          "text": [
            "Number of ContentID not present in interactions:  70\n",
            "Number of ContentID not present in articles:  0\n"
          ],
          "name": "stdout"
        }
      ]
    },
    {
      "cell_type": "markdown",
      "metadata": {
        "id": "vLNahvUvq62A"
      },
      "source": [
        "##### Hence, the dataset has no user interaction information for 70 articles. "
      ]
    },
    {
      "cell_type": "markdown",
      "metadata": {
        "id": "viUhq2UQm_6B"
      },
      "source": [
        "#### Join Articles and Counts of User Interaction"
      ]
    },
    {
      "cell_type": "code",
      "metadata": {
        "id": "cwzvu1PvrhgL",
        "outputId": "6ba5b0d1-90ef-4e5d-9470-0ba90a79c8be",
        "colab": {
          "base_uri": "https://localhost:8080/"
        }
      },
      "source": [
        "data = articles.set_index('contentId').join(counts.set_index('contentId'), how = 'inner')\n",
        "data.head()"
      ],
      "execution_count": null,
      "outputs": [
        {
          "output_type": "execute_result",
          "data": {
            "text/html": [
              "<div>\n",
              "<style scoped>\n",
              "    .dataframe tbody tr th:only-of-type {\n",
              "        vertical-align: middle;\n",
              "    }\n",
              "\n",
              "    .dataframe tbody tr th {\n",
              "        vertical-align: top;\n",
              "    }\n",
              "\n",
              "    .dataframe thead th {\n",
              "        text-align: right;\n",
              "    }\n",
              "</style>\n",
              "<table border=\"1\" class=\"dataframe\">\n",
              "  <thead>\n",
              "    <tr style=\"text-align: right;\">\n",
              "      <th></th>\n",
              "      <th>timestamp</th>\n",
              "      <th>eventType</th>\n",
              "      <th>authorPersonId</th>\n",
              "      <th>authorSessionId</th>\n",
              "      <th>authorUserAgent</th>\n",
              "      <th>authorRegion</th>\n",
              "      <th>authorCountry</th>\n",
              "      <th>contentType</th>\n",
              "      <th>url</th>\n",
              "      <th>title</th>\n",
              "      <th>text</th>\n",
              "      <th>lang</th>\n",
              "      <th>BOOKMARK</th>\n",
              "      <th>COMMENT CREATED</th>\n",
              "      <th>FOLLOW</th>\n",
              "      <th>LIKE</th>\n",
              "      <th>VIEW</th>\n",
              "      <th>VIRALITY</th>\n",
              "    </tr>\n",
              "    <tr>\n",
              "      <th>contentId</th>\n",
              "      <th></th>\n",
              "      <th></th>\n",
              "      <th></th>\n",
              "      <th></th>\n",
              "      <th></th>\n",
              "      <th></th>\n",
              "      <th></th>\n",
              "      <th></th>\n",
              "      <th></th>\n",
              "      <th></th>\n",
              "      <th></th>\n",
              "      <th></th>\n",
              "      <th></th>\n",
              "      <th></th>\n",
              "      <th></th>\n",
              "      <th></th>\n",
              "      <th></th>\n",
              "      <th></th>\n",
              "    </tr>\n",
              "  </thead>\n",
              "  <tbody>\n",
              "    <tr>\n",
              "      <th>-9222795471790223670</th>\n",
              "      <td>1465870439</td>\n",
              "      <td>CONTENT SHARED</td>\n",
              "      <td>-5868110530814399805</td>\n",
              "      <td>1607781139334257479</td>\n",
              "      <td>NaN</td>\n",
              "      <td>NaN</td>\n",
              "      <td>NaN</td>\n",
              "      <td>HTML</td>\n",
              "      <td>http://idgnow.com.br/mobilidade/2016/06/13/ube...</td>\n",
              "      <td>Uber lança serviço de helicóptero em SP com pr...</td>\n",
              "      <td>O Uber anunciou nesta segunda-feira, 13/06, o ...</td>\n",
              "      <td>pt</td>\n",
              "      <td>1</td>\n",
              "      <td>2</td>\n",
              "      <td>3</td>\n",
              "      <td>4</td>\n",
              "      <td>16</td>\n",
              "      <td>227</td>\n",
              "    </tr>\n",
              "    <tr>\n",
              "      <th>-9216926795620865886</th>\n",
              "      <td>1467662560</td>\n",
              "      <td>CONTENT SHARED</td>\n",
              "      <td>-7711052404720939396</td>\n",
              "      <td>-1358388252171356050</td>\n",
              "      <td>NaN</td>\n",
              "      <td>NaN</td>\n",
              "      <td>NaN</td>\n",
              "      <td>HTML</td>\n",
              "      <td>http://maggiesensei.com/2012/11/14/request-les...</td>\n",
              "      <td>Request lesson : How and when to use はず(=hazu)...</td>\n",
              "      <td>= Kotoshi no aki made niwa kare ga dekiru hazu...</td>\n",
              "      <td>la</td>\n",
              "      <td>1</td>\n",
              "      <td>1</td>\n",
              "      <td>1</td>\n",
              "      <td>3</td>\n",
              "      <td>15</td>\n",
              "      <td>162</td>\n",
              "    </tr>\n",
              "    <tr>\n",
              "      <th>-9194572880052200111</th>\n",
              "      <td>1485266665</td>\n",
              "      <td>CONTENT SHARED</td>\n",
              "      <td>2279740393166882579</td>\n",
              "      <td>-2981318194211766525</td>\n",
              "      <td>Mozilla/5.0 (X11; Linux x86_64) AppleWebKit/53...</td>\n",
              "      <td>SP</td>\n",
              "      <td>BR</td>\n",
              "      <td>HTML</td>\n",
              "      <td>http://br-arduino.org/2017/01/stemtera-uma-pro...</td>\n",
              "      <td>STEMTera, uma protoboard com Arduino Uno embutido</td>\n",
              "      <td>Protoboard de 400 pinos + Arduino Uno em um só...</td>\n",
              "      <td>pt</td>\n",
              "      <td>2</td>\n",
              "      <td>1</td>\n",
              "      <td>1</td>\n",
              "      <td>4</td>\n",
              "      <td>21</td>\n",
              "      <td>272</td>\n",
              "    </tr>\n",
              "    <tr>\n",
              "      <th>-9192549002213406534</th>\n",
              "      <td>1461531427</td>\n",
              "      <td>CONTENT SHARED</td>\n",
              "      <td>-1578287561410088674</td>\n",
              "      <td>-5843888580106500275</td>\n",
              "      <td>NaN</td>\n",
              "      <td>NaN</td>\n",
              "      <td>NaN</td>\n",
              "      <td>HTML</td>\n",
              "      <td>http://thenextweb.com/dd/2016/04/20/googles-ch...</td>\n",
              "      <td>Chrome OS now has Material Design for the desktop</td>\n",
              "      <td>Chromebook users are in for a surprise: Chrome...</td>\n",
              "      <td>en</td>\n",
              "      <td>0</td>\n",
              "      <td>1</td>\n",
              "      <td>0</td>\n",
              "      <td>5</td>\n",
              "      <td>50</td>\n",
              "      <td>80</td>\n",
              "    </tr>\n",
              "    <tr>\n",
              "      <th>-9190737901804729417</th>\n",
              "      <td>1467653065</td>\n",
              "      <td>CONTENT SHARED</td>\n",
              "      <td>-108842214936804958</td>\n",
              "      <td>7085372222303681846</td>\n",
              "      <td>NaN</td>\n",
              "      <td>NaN</td>\n",
              "      <td>NaN</td>\n",
              "      <td>HTML</td>\n",
              "      <td>http://themacro.com/articles/2016/06/the-real-...</td>\n",
              "      <td>The Real Product Market Fit</td>\n",
              "      <td>Michael Seibel, Y Combinator Partner, on knowi...</td>\n",
              "      <td>en</td>\n",
              "      <td>0</td>\n",
              "      <td>0</td>\n",
              "      <td>0</td>\n",
              "      <td>1</td>\n",
              "      <td>8</td>\n",
              "      <td>12</td>\n",
              "    </tr>\n",
              "  </tbody>\n",
              "</table>\n",
              "</div>"
            ],
            "text/plain": [
              "                       timestamp       eventType  ...  VIEW  VIRALITY\n",
              "contentId                                         ...                \n",
              "-9222795471790223670  1465870439  CONTENT SHARED  ...    16       227\n",
              "-9216926795620865886  1467662560  CONTENT SHARED  ...    15       162\n",
              "-9194572880052200111  1485266665  CONTENT SHARED  ...    21       272\n",
              "-9192549002213406534  1461531427  CONTENT SHARED  ...    50        80\n",
              "-9190737901804729417  1467653065  CONTENT SHARED  ...     8        12\n",
              "\n",
              "[5 rows x 18 columns]"
            ]
          },
          "metadata": {
            "tags": []
          },
          "execution_count": 9
        }
      ]
    },
    {
      "cell_type": "markdown",
      "metadata": {
        "id": "99GEekPoXihh"
      },
      "source": [
        "#### Remove Content Removed Rows"
      ]
    },
    {
      "cell_type": "code",
      "metadata": {
        "id": "RcE_maWXXnBr"
      },
      "source": [
        "data = data[data['eventType'] != 'CONTENT REMOVED']"
      ],
      "execution_count": null,
      "outputs": []
    },
    {
      "cell_type": "markdown",
      "metadata": {
        "id": "KFXLbo6CN85e"
      },
      "source": [
        "#### Drop URL, contentType, eventType, NaN and ID columns"
      ]
    },
    {
      "cell_type": "markdown",
      "metadata": {
        "id": "Gw6O9D8qOELC"
      },
      "source": [
        "##### Identify columns having NaN"
      ]
    },
    {
      "cell_type": "code",
      "metadata": {
        "id": "A2baJv6xOAKd",
        "outputId": "633b9a85-7d33-404a-c0d6-f455a029f4f9",
        "colab": {
          "base_uri": "https://localhost:8080/"
        }
      },
      "source": [
        "data.isnull().any()"
      ],
      "execution_count": null,
      "outputs": [
        {
          "output_type": "execute_result",
          "data": {
            "text/plain": [
              "timestamp          False\n",
              "eventType          False\n",
              "authorPersonId     False\n",
              "authorSessionId    False\n",
              "authorUserAgent     True\n",
              "authorRegion        True\n",
              "authorCountry       True\n",
              "contentType        False\n",
              "url                False\n",
              "title              False\n",
              "text               False\n",
              "lang               False\n",
              "BOOKMARK           False\n",
              "COMMENT CREATED    False\n",
              "FOLLOW             False\n",
              "LIKE               False\n",
              "VIEW               False\n",
              "VIRALITY           False\n",
              "dtype: bool"
            ]
          },
          "metadata": {
            "tags": []
          },
          "execution_count": 11
        }
      ]
    },
    {
      "cell_type": "markdown",
      "metadata": {
        "id": "f2h_ux7_Oe4Y"
      },
      "source": [
        "##### Analyse NaN columns"
      ]
    },
    {
      "cell_type": "code",
      "metadata": {
        "id": "D7B_Np9wOKVe",
        "outputId": "7a2e7e53-02cc-4467-fdf0-e54229030b9c",
        "colab": {
          "base_uri": "https://localhost:8080/"
        }
      },
      "source": [
        "print(\"Number of rows with country information:\", len(data['authorCountry'].dropna()), \"out of\", data.shape[0])\n",
        "print(\"Number of rows with region information:\", len(data['authorRegion'].dropna()), \"out of\", data.shape[0])\n",
        "print(\"Number of rows with user agent information:\", len(data['authorUserAgent'].dropna()), \"out of\", data.shape[0])"
      ],
      "execution_count": null,
      "outputs": [
        {
          "output_type": "stream",
          "text": [
            "Number of rows with country information: 662 out of 2979\n",
            "Number of rows with region information: 662 out of 2979\n",
            "Number of rows with user agent information: 662 out of 2979\n"
          ],
          "name": "stdout"
        }
      ]
    },
    {
      "cell_type": "markdown",
      "metadata": {
        "id": "ADEhbVNsPI-a"
      },
      "source": [
        "##### Since, 22% of the data rows contain the above information, it would be difficult to analyse it's effect on virality and hence dropped."
      ]
    },
    {
      "cell_type": "markdown",
      "metadata": {
        "id": "EUvd6hafXCVs"
      },
      "source": [
        "##### Analyse Content Type"
      ]
    },
    {
      "cell_type": "code",
      "metadata": {
        "id": "jxFzWLqFW59u",
        "outputId": "5b1ded53-c793-44c9-d95d-0d5a015f39f6",
        "colab": {
          "base_uri": "https://localhost:8080/"
        }
      },
      "source": [
        "data['contentType'].value_counts()"
      ],
      "execution_count": null,
      "outputs": [
        {
          "output_type": "execute_result",
          "data": {
            "text/plain": [
              "HTML     2959\n",
              "RICH       10\n",
              "VIDEO      10\n",
              "Name: contentType, dtype: int64"
            ]
          },
          "metadata": {
            "tags": []
          },
          "execution_count": 13
        }
      ]
    },
    {
      "cell_type": "markdown",
      "metadata": {
        "id": "Zq8c1h1OXORp"
      },
      "source": [
        "##### Since, more 95% has HTML content-type, it won't make a big difference over virality and hence dropped."
      ]
    },
    {
      "cell_type": "markdown",
      "metadata": {
        "id": "FrcyUWarPlu-"
      },
      "source": [
        "##### Drop columns"
      ]
    },
    {
      "cell_type": "code",
      "metadata": {
        "id": "ELDn7hO8PAVM",
        "outputId": "885f55bd-b566-488e-a6c7-a3ee39c9d704",
        "colab": {
          "base_uri": "https://localhost:8080/"
        }
      },
      "source": [
        "data.drop(['authorUserAgent', 'authorCountry', 'authorRegion', 'authorSessionId', 'authorPersonId', 'url', 'contentType', 'eventType'], inplace=True, axis=1)\n",
        "data.head()"
      ],
      "execution_count": null,
      "outputs": [
        {
          "output_type": "execute_result",
          "data": {
            "text/html": [
              "<div>\n",
              "<style scoped>\n",
              "    .dataframe tbody tr th:only-of-type {\n",
              "        vertical-align: middle;\n",
              "    }\n",
              "\n",
              "    .dataframe tbody tr th {\n",
              "        vertical-align: top;\n",
              "    }\n",
              "\n",
              "    .dataframe thead th {\n",
              "        text-align: right;\n",
              "    }\n",
              "</style>\n",
              "<table border=\"1\" class=\"dataframe\">\n",
              "  <thead>\n",
              "    <tr style=\"text-align: right;\">\n",
              "      <th></th>\n",
              "      <th>timestamp</th>\n",
              "      <th>title</th>\n",
              "      <th>text</th>\n",
              "      <th>lang</th>\n",
              "      <th>BOOKMARK</th>\n",
              "      <th>COMMENT CREATED</th>\n",
              "      <th>FOLLOW</th>\n",
              "      <th>LIKE</th>\n",
              "      <th>VIEW</th>\n",
              "      <th>VIRALITY</th>\n",
              "    </tr>\n",
              "    <tr>\n",
              "      <th>contentId</th>\n",
              "      <th></th>\n",
              "      <th></th>\n",
              "      <th></th>\n",
              "      <th></th>\n",
              "      <th></th>\n",
              "      <th></th>\n",
              "      <th></th>\n",
              "      <th></th>\n",
              "      <th></th>\n",
              "      <th></th>\n",
              "    </tr>\n",
              "  </thead>\n",
              "  <tbody>\n",
              "    <tr>\n",
              "      <th>-9222795471790223670</th>\n",
              "      <td>1465870439</td>\n",
              "      <td>Uber lança serviço de helicóptero em SP com pr...</td>\n",
              "      <td>O Uber anunciou nesta segunda-feira, 13/06, o ...</td>\n",
              "      <td>pt</td>\n",
              "      <td>1</td>\n",
              "      <td>2</td>\n",
              "      <td>3</td>\n",
              "      <td>4</td>\n",
              "      <td>16</td>\n",
              "      <td>227</td>\n",
              "    </tr>\n",
              "    <tr>\n",
              "      <th>-9216926795620865886</th>\n",
              "      <td>1467662560</td>\n",
              "      <td>Request lesson : How and when to use はず(=hazu)...</td>\n",
              "      <td>= Kotoshi no aki made niwa kare ga dekiru hazu...</td>\n",
              "      <td>la</td>\n",
              "      <td>1</td>\n",
              "      <td>1</td>\n",
              "      <td>1</td>\n",
              "      <td>3</td>\n",
              "      <td>15</td>\n",
              "      <td>162</td>\n",
              "    </tr>\n",
              "    <tr>\n",
              "      <th>-9194572880052200111</th>\n",
              "      <td>1485266665</td>\n",
              "      <td>STEMTera, uma protoboard com Arduino Uno embutido</td>\n",
              "      <td>Protoboard de 400 pinos + Arduino Uno em um só...</td>\n",
              "      <td>pt</td>\n",
              "      <td>2</td>\n",
              "      <td>1</td>\n",
              "      <td>1</td>\n",
              "      <td>4</td>\n",
              "      <td>21</td>\n",
              "      <td>272</td>\n",
              "    </tr>\n",
              "    <tr>\n",
              "      <th>-9192549002213406534</th>\n",
              "      <td>1461531427</td>\n",
              "      <td>Chrome OS now has Material Design for the desktop</td>\n",
              "      <td>Chromebook users are in for a surprise: Chrome...</td>\n",
              "      <td>en</td>\n",
              "      <td>0</td>\n",
              "      <td>1</td>\n",
              "      <td>0</td>\n",
              "      <td>5</td>\n",
              "      <td>50</td>\n",
              "      <td>80</td>\n",
              "    </tr>\n",
              "    <tr>\n",
              "      <th>-9190737901804729417</th>\n",
              "      <td>1467653065</td>\n",
              "      <td>The Real Product Market Fit</td>\n",
              "      <td>Michael Seibel, Y Combinator Partner, on knowi...</td>\n",
              "      <td>en</td>\n",
              "      <td>0</td>\n",
              "      <td>0</td>\n",
              "      <td>0</td>\n",
              "      <td>1</td>\n",
              "      <td>8</td>\n",
              "      <td>12</td>\n",
              "    </tr>\n",
              "  </tbody>\n",
              "</table>\n",
              "</div>"
            ],
            "text/plain": [
              "                       timestamp  ... VIRALITY\n",
              "contentId                         ...         \n",
              "-9222795471790223670  1465870439  ...      227\n",
              "-9216926795620865886  1467662560  ...      162\n",
              "-9194572880052200111  1485266665  ...      272\n",
              "-9192549002213406534  1461531427  ...       80\n",
              "-9190737901804729417  1467653065  ...       12\n",
              "\n",
              "[5 rows x 10 columns]"
            ]
          },
          "metadata": {
            "tags": []
          },
          "execution_count": 14
        }
      ]
    },
    {
      "cell_type": "markdown",
      "metadata": {
        "id": "y5hRPFLxQnfU"
      },
      "source": [
        "#### Process Language, Title and Text "
      ]
    },
    {
      "cell_type": "markdown",
      "metadata": {
        "id": "QXe-k2UtRaJb"
      },
      "source": [
        "##### Counts of articles based on language"
      ]
    },
    {
      "cell_type": "code",
      "metadata": {
        "id": "z9LdK3-7Q7NG",
        "outputId": "0b6bc751-3aee-4649-e243-1689a69bfc6c",
        "colab": {
          "base_uri": "https://localhost:8080/"
        }
      },
      "source": [
        "data['lang'].value_counts()"
      ],
      "execution_count": null,
      "outputs": [
        {
          "output_type": "execute_result",
          "data": {
            "text/plain": [
              "en    2149\n",
              "pt     823\n",
              "la       3\n",
              "es       2\n",
              "ja       2\n",
              "Name: lang, dtype: int64"
            ]
          },
          "metadata": {
            "tags": []
          },
          "execution_count": 15
        }
      ]
    },
    {
      "cell_type": "markdown",
      "metadata": {
        "id": "DHO2nPfXRhAw"
      },
      "source": [
        "##### Considering the scope of the project and above statistics, only English articles will be kept."
      ]
    },
    {
      "cell_type": "code",
      "metadata": {
        "id": "7K17adHrRWek",
        "outputId": "7ce868ab-9a0c-4817-ad62-4664e8216792",
        "colab": {
          "base_uri": "https://localhost:8080/"
        }
      },
      "source": [
        "data = data[data['lang'] == 'en']\n",
        "data.head()"
      ],
      "execution_count": null,
      "outputs": [
        {
          "output_type": "execute_result",
          "data": {
            "text/html": [
              "<div>\n",
              "<style scoped>\n",
              "    .dataframe tbody tr th:only-of-type {\n",
              "        vertical-align: middle;\n",
              "    }\n",
              "\n",
              "    .dataframe tbody tr th {\n",
              "        vertical-align: top;\n",
              "    }\n",
              "\n",
              "    .dataframe thead th {\n",
              "        text-align: right;\n",
              "    }\n",
              "</style>\n",
              "<table border=\"1\" class=\"dataframe\">\n",
              "  <thead>\n",
              "    <tr style=\"text-align: right;\">\n",
              "      <th></th>\n",
              "      <th>timestamp</th>\n",
              "      <th>title</th>\n",
              "      <th>text</th>\n",
              "      <th>lang</th>\n",
              "      <th>BOOKMARK</th>\n",
              "      <th>COMMENT CREATED</th>\n",
              "      <th>FOLLOW</th>\n",
              "      <th>LIKE</th>\n",
              "      <th>VIEW</th>\n",
              "      <th>VIRALITY</th>\n",
              "    </tr>\n",
              "    <tr>\n",
              "      <th>contentId</th>\n",
              "      <th></th>\n",
              "      <th></th>\n",
              "      <th></th>\n",
              "      <th></th>\n",
              "      <th></th>\n",
              "      <th></th>\n",
              "      <th></th>\n",
              "      <th></th>\n",
              "      <th></th>\n",
              "      <th></th>\n",
              "    </tr>\n",
              "  </thead>\n",
              "  <tbody>\n",
              "    <tr>\n",
              "      <th>-9192549002213406534</th>\n",
              "      <td>1461531427</td>\n",
              "      <td>Chrome OS now has Material Design for the desktop</td>\n",
              "      <td>Chromebook users are in for a surprise: Chrome...</td>\n",
              "      <td>en</td>\n",
              "      <td>0</td>\n",
              "      <td>1</td>\n",
              "      <td>0</td>\n",
              "      <td>5</td>\n",
              "      <td>50</td>\n",
              "      <td>80</td>\n",
              "    </tr>\n",
              "    <tr>\n",
              "      <th>-9190737901804729417</th>\n",
              "      <td>1467653065</td>\n",
              "      <td>The Real Product Market Fit</td>\n",
              "      <td>Michael Seibel, Y Combinator Partner, on knowi...</td>\n",
              "      <td>en</td>\n",
              "      <td>0</td>\n",
              "      <td>0</td>\n",
              "      <td>0</td>\n",
              "      <td>1</td>\n",
              "      <td>8</td>\n",
              "      <td>12</td>\n",
              "    </tr>\n",
              "    <tr>\n",
              "      <th>-9189659052158407108</th>\n",
              "      <td>1470892968</td>\n",
              "      <td>Eddy Cue and Craig Federighi Open Up About Lea...</td>\n",
              "      <td>Fast Company : Let's start talking about Maps....</td>\n",
              "      <td>en</td>\n",
              "      <td>2</td>\n",
              "      <td>0</td>\n",
              "      <td>0</td>\n",
              "      <td>1</td>\n",
              "      <td>33</td>\n",
              "      <td>237</td>\n",
              "    </tr>\n",
              "    <tr>\n",
              "      <th>-9171475473795142532</th>\n",
              "      <td>1459423840</td>\n",
              "      <td>Decentralized Options Exchange Etheropt Uses A...</td>\n",
              "      <td>The price per Ether will be taken from multipl...</td>\n",
              "      <td>en</td>\n",
              "      <td>1</td>\n",
              "      <td>0</td>\n",
              "      <td>0</td>\n",
              "      <td>0</td>\n",
              "      <td>4</td>\n",
              "      <td>104</td>\n",
              "    </tr>\n",
              "    <tr>\n",
              "      <th>-9166778629773133902</th>\n",
              "      <td>1461067523</td>\n",
              "      <td>Google CDN Beta is here... and it's already on...</td>\n",
              "      <td>Some months ago, Google launched their Alpha p...</td>\n",
              "      <td>en</td>\n",
              "      <td>0</td>\n",
              "      <td>0</td>\n",
              "      <td>0</td>\n",
              "      <td>0</td>\n",
              "      <td>5</td>\n",
              "      <td>5</td>\n",
              "    </tr>\n",
              "  </tbody>\n",
              "</table>\n",
              "</div>"
            ],
            "text/plain": [
              "                       timestamp  ... VIRALITY\n",
              "contentId                         ...         \n",
              "-9192549002213406534  1461531427  ...       80\n",
              "-9190737901804729417  1467653065  ...       12\n",
              "-9189659052158407108  1470892968  ...      237\n",
              "-9171475473795142532  1459423840  ...      104\n",
              "-9166778629773133902  1461067523  ...        5\n",
              "\n",
              "[5 rows x 10 columns]"
            ]
          },
          "metadata": {
            "tags": []
          },
          "execution_count": 16
        }
      ]
    },
    {
      "cell_type": "markdown",
      "metadata": {
        "id": "o6ylN1YQScPv"
      },
      "source": [
        "##### Clean and Tokenize Title + Text\n",
        "\n",
        "- Clean Text by removing bad symbols and stopwords\n",
        "- Reference: https://github.com/radonys/Reddit-Flair-Detector/blob/master/Jupyter%20Notebooks/Reddit_Flair_Detector.ipynb (my GitHub repository)\n",
        "- Tokenize and Stemming text using Gensim modules\n",
        "- Reference: 1) https://tedboy.github.io/nlps/generated/generated/gensim.utils.simple_preprocess.html, 2) https://radimrehurek.com/gensim/parsing/porter.html"
      ]
    },
    {
      "cell_type": "code",
      "metadata": {
        "id": "5MlkaolwVhyR"
      },
      "source": [
        "REPLACE_BY_SPACE_RE = re.compile('[/(){}\\[\\]\\|@,;]')\n",
        "BAD_SYMBOLS_RE = re.compile('[^0-9a-z #+_]')\n",
        "STOPWORDS = set(stopwords.words('english'))\n",
        "\n",
        "def clean_text(text):\n",
        "   \n",
        "    text = BeautifulSoup(text, \"lxml\").text\n",
        "    text = text.lower()\n",
        "    text = REPLACE_BY_SPACE_RE.sub(' ', text)\n",
        "    text = BAD_SYMBOLS_RE.sub('', text)\n",
        "    text = ' '.join(word for word in text.split() if word not in STOPWORDS)\n",
        "\n",
        "    return text\n",
        "\n",
        "def token_stem(text):\n",
        "\n",
        "  tokens = simple_preprocess(text, deacc=True)\n",
        "  \n",
        "  porter_stemmer = PorterStemmer()\n",
        "  stem_tokens = [porter_stemmer.stem(word) for word in tokens]\n",
        "\n",
        "  return stem_tokens"
      ],
      "execution_count": null,
      "outputs": []
    },
    {
      "cell_type": "code",
      "metadata": {
        "id": "3Q_VuC7xSf-9",
        "outputId": "7e6bcb66-db7b-4176-a9c0-4b24be0848ec",
        "colab": {
          "base_uri": "https://localhost:8080/"
        }
      },
      "source": [
        "data['title'] = data['title'].apply(clean_text)\n",
        "data['text'] = data['text'].apply(clean_text)\n",
        "\n",
        "data.drop(['lang'], axis = 1, inplace = True)\n",
        "\n",
        "data.head()"
      ],
      "execution_count": null,
      "outputs": [
        {
          "output_type": "execute_result",
          "data": {
            "text/html": [
              "<div>\n",
              "<style scoped>\n",
              "    .dataframe tbody tr th:only-of-type {\n",
              "        vertical-align: middle;\n",
              "    }\n",
              "\n",
              "    .dataframe tbody tr th {\n",
              "        vertical-align: top;\n",
              "    }\n",
              "\n",
              "    .dataframe thead th {\n",
              "        text-align: right;\n",
              "    }\n",
              "</style>\n",
              "<table border=\"1\" class=\"dataframe\">\n",
              "  <thead>\n",
              "    <tr style=\"text-align: right;\">\n",
              "      <th></th>\n",
              "      <th>timestamp</th>\n",
              "      <th>title</th>\n",
              "      <th>text</th>\n",
              "      <th>BOOKMARK</th>\n",
              "      <th>COMMENT CREATED</th>\n",
              "      <th>FOLLOW</th>\n",
              "      <th>LIKE</th>\n",
              "      <th>VIEW</th>\n",
              "      <th>VIRALITY</th>\n",
              "    </tr>\n",
              "    <tr>\n",
              "      <th>contentId</th>\n",
              "      <th></th>\n",
              "      <th></th>\n",
              "      <th></th>\n",
              "      <th></th>\n",
              "      <th></th>\n",
              "      <th></th>\n",
              "      <th></th>\n",
              "      <th></th>\n",
              "      <th></th>\n",
              "    </tr>\n",
              "  </thead>\n",
              "  <tbody>\n",
              "    <tr>\n",
              "      <th>-9192549002213406534</th>\n",
              "      <td>1461531427</td>\n",
              "      <td>chrome os material design desktop</td>\n",
              "      <td>chromebook users surprise chrome 50 bringing m...</td>\n",
              "      <td>0</td>\n",
              "      <td>1</td>\n",
              "      <td>0</td>\n",
              "      <td>5</td>\n",
              "      <td>50</td>\n",
              "      <td>80</td>\n",
              "    </tr>\n",
              "    <tr>\n",
              "      <th>-9190737901804729417</th>\n",
              "      <td>1467653065</td>\n",
              "      <td>real product market fit</td>\n",
              "      <td>michael seibel combinator partner knowing youv...</td>\n",
              "      <td>0</td>\n",
              "      <td>0</td>\n",
              "      <td>0</td>\n",
              "      <td>1</td>\n",
              "      <td>8</td>\n",
              "      <td>12</td>\n",
              "    </tr>\n",
              "    <tr>\n",
              "      <th>-9189659052158407108</th>\n",
              "      <td>1470892968</td>\n",
              "      <td>eddy cue craig federighi open learning apples ...</td>\n",
              "      <td>fast company lets start talking maps developin...</td>\n",
              "      <td>2</td>\n",
              "      <td>0</td>\n",
              "      <td>0</td>\n",
              "      <td>1</td>\n",
              "      <td>33</td>\n",
              "      <td>237</td>\n",
              "    </tr>\n",
              "    <tr>\n",
              "      <th>-9171475473795142532</th>\n",
              "      <td>1459423840</td>\n",
              "      <td>decentralized options exchange etheropt uses a...</td>\n",
              "      <td>price per ether taken multiple sources includi...</td>\n",
              "      <td>1</td>\n",
              "      <td>0</td>\n",
              "      <td>0</td>\n",
              "      <td>0</td>\n",
              "      <td>4</td>\n",
              "      <td>104</td>\n",
              "    </tr>\n",
              "    <tr>\n",
              "      <th>-9166778629773133902</th>\n",
              "      <td>1461067523</td>\n",
              "      <td>google cdn beta already one fastest cdns</td>\n",
              "      <td>months ago google launched alpha program upcom...</td>\n",
              "      <td>0</td>\n",
              "      <td>0</td>\n",
              "      <td>0</td>\n",
              "      <td>0</td>\n",
              "      <td>5</td>\n",
              "      <td>5</td>\n",
              "    </tr>\n",
              "  </tbody>\n",
              "</table>\n",
              "</div>"
            ],
            "text/plain": [
              "                       timestamp  ... VIRALITY\n",
              "contentId                         ...         \n",
              "-9192549002213406534  1461531427  ...       80\n",
              "-9190737901804729417  1467653065  ...       12\n",
              "-9189659052158407108  1470892968  ...      237\n",
              "-9171475473795142532  1459423840  ...      104\n",
              "-9166778629773133902  1461067523  ...        5\n",
              "\n",
              "[5 rows x 9 columns]"
            ]
          },
          "metadata": {
            "tags": []
          },
          "execution_count": 18
        }
      ]
    },
    {
      "cell_type": "markdown",
      "metadata": {
        "id": "CnfEEqRHbnkB"
      },
      "source": [
        "#### Exploratory Analysis"
      ]
    },
    {
      "cell_type": "markdown",
      "metadata": {
        "id": "wLZhtVNgb3Us"
      },
      "source": [
        "##### Time Units vs Virality\n",
        "\n",
        "Since, it's a time-series data, it becomes important to analyse the effects of time on virality and hence it's analysed against hours and minutes (in a day) and months."
      ]
    },
    {
      "cell_type": "code",
      "metadata": {
        "id": "hf61yGGybp6A",
        "outputId": "b8fc94ec-67ed-4ca6-d556-eda2c3f51561",
        "colab": {
          "base_uri": "https://localhost:8080/"
        }
      },
      "source": [
        "fig, axs = plt.subplots(3, 1)\n",
        "\n",
        "y = list(data['VIRALITY'])\n",
        "x = list(data['timestamp'].apply(datetime.fromtimestamp).dt.hour)\n",
        "df = pd.DataFrame({'hour': x, 'virality': y})\n",
        "df.sort_values('hour', inplace=True)\n",
        "\n",
        "axs[0].plot(df['hour'], df['virality'])\n",
        "axs[0].set_title('Hour vs Virality')\n",
        "\n",
        "y = list(data['VIRALITY'])\n",
        "x = list(data['timestamp'].apply(datetime.fromtimestamp).dt.minute)\n",
        "df = pd.DataFrame({'minute': x, 'virality': y})\n",
        "df.sort_values('minute', inplace=True)\n",
        "\n",
        "axs[1].plot(df['minute'], df['virality'], 'tab:red')\n",
        "axs[1].set_title('Minute vs Virality')\n",
        "\n",
        "y = list(data['VIRALITY'])\n",
        "x = list(data['timestamp'].apply(datetime.fromtimestamp).dt.month)\n",
        "df = pd.DataFrame({'month': x, 'virality': y})\n",
        "df.sort_values('month', inplace=True)\n",
        "\n",
        "axs[2].plot(df['month'], df['virality'], 'tab:orange')\n",
        "axs[2].set_title('Month vs Virality')\n",
        "\n",
        "units = ['hour', 'minute', 'month']\n",
        "\n",
        "for i, ax in enumerate(axs.flat):\n",
        "    ax.set(xlabel=units[i], ylabel='virality')\n",
        "\n",
        "fig.tight_layout()\n",
        "fig.set_size_inches(5, 8)\n",
        "fig.show()"
      ],
      "execution_count": null,
      "outputs": [
        {
          "output_type": "display_data",
          "data": {
            "image/png": "[encoded data removed]",
            "text/plain": [
              "<Figure size 360x576 with 3 Axes>"
            ]
          },
          "metadata": {
            "tags": [],
            "needs_background": "light"
          }
        }
      ]
    },
    {
      "cell_type": "markdown",
      "metadata": {
        "id": "guPw16_DobdY"
      },
      "source": [
        "Since the patterns don't give a clear idea (peaks are result of large values), hence time is not considered for the ML model."
      ]
    },
    {
      "cell_type": "code",
      "metadata": {
        "id": "qUJrtYCLZU9g"
      },
      "source": [
        "data.drop('timestamp', axis=1, inplace=True)"
      ],
      "execution_count": null,
      "outputs": []
    },
    {
      "cell_type": "markdown",
      "metadata": {
        "id": "vG5P4Rd7WtbX"
      },
      "source": [
        "##### Correlation Matrix Between Numerical Values"
      ]
    },
    {
      "cell_type": "code",
      "metadata": {
        "id": "WfZqOy7dotP1",
        "outputId": "ee52fc8f-be91-4ed3-cd09-4e0e0990e9cc",
        "colab": {
          "base_uri": "https://localhost:8080/"
        }
      },
      "source": [
        "corr_mat = data.corr()\n",
        "sns.heatmap(corr_mat, annot=True)\n",
        "\n",
        "plt.show()"
      ],
      "execution_count": null,
      "outputs": [
        {
          "output_type": "display_data",
          "data": {
            "image/png": "[encoded data removed]",
            "text/plain": [
              "<Figure size 432x288 with 2 Axes>"
            ]
          },
          "metadata": {
            "tags": [],
            "needs_background": "light"
          }
        }
      ]
    },
    {
      "cell_type": "markdown",
      "metadata": {
        "id": "JuvquG_4Zz6u"
      },
      "source": [
        "As we can see from above, numerical variables are correlated with Virality in the following order (High to Low): Bookmark, Like, View, Follow and Comment Created, which is differing from the order of the coefficients as per the problem statement."
      ]
    },
    {
      "cell_type": "markdown",
      "metadata": {
        "id": "-zR2UhiwbYzn"
      },
      "source": [
        "### Machine Learning Model"
      ]
    },
    {
      "cell_type": "markdown",
      "metadata": {
        "id": "e9D2I0ovbb-W"
      },
      "source": [
        "I would examine the model under two conditions. One with text and title information and one without considering it. The ML models considered for the project are: Linear Regression, Polynomial Regression, Random Forest, and Lasso."
      ]
    },
    {
      "cell_type": "markdown",
      "metadata": {
        "id": "dsbBxwANduC6"
      },
      "source": [
        "#### Linear Regression"
      ]
    },
    {
      "cell_type": "code",
      "metadata": {
        "id": "0ujaNBV8dwI1"
      },
      "source": [
        "def linear_reg(X_train, X_test, y_train, y_test):\n",
        "\n",
        "  model = LinearRegression(n_jobs=-1)\n",
        "    \n",
        "  model.fit(X_train, y_train)\n",
        "\n",
        "  y_pred = model.predict(X_test)\n",
        "\n",
        "  print(\"R-Square Value:\", r2_score(y_test, y_pred))\n",
        "  print(\"Root Mean-Square Error:\", mean_squared_error(y_test, y_pred, squared=False))\n",
        "  print(\"Mean Absolute Error:\", mean_absolute_error(y_test, y_pred), \"\\n\")"
      ],
      "execution_count": null,
      "outputs": []
    },
    {
      "cell_type": "markdown",
      "metadata": {
        "id": "gtJJ0LTvkm4b"
      },
      "source": [
        "#### Polynomial Regression"
      ]
    },
    {
      "cell_type": "code",
      "metadata": {
        "id": "YG_TPfLKkqCc"
      },
      "source": [
        "def polynomial_reg(X_train, X_test, y_train, y_test):\n",
        "\n",
        "  transformer = PolynomialFeatures(degree=2, include_bias=False)\n",
        "  transformer.fit(X_train)\n",
        "\n",
        "  x_ = transformer.transform(X_train)\n",
        "\n",
        "  model = LinearRegression(n_jobs=-1)\n",
        "    \n",
        "  model.fit(x_, y_train)\n",
        "\n",
        "  y_pred = model.predict(transformer.transform(X_test))\n",
        "\n",
        "  print(\"R-Square Value:\", r2_score(y_test, y_pred))\n",
        "  print(\"Root Mean-Square Error:\", mean_squared_error(y_test, y_pred, squared=False))\n",
        "  print(\"Mean Absolute Error:\", mean_absolute_error(y_test, y_pred), \"\\n\")"
      ],
      "execution_count": null,
      "outputs": []
    },
    {
      "cell_type": "markdown",
      "metadata": {
        "id": "u-lcE6sOlHen"
      },
      "source": [
        "#### Random-Forest Regression"
      ]
    },
    {
      "cell_type": "code",
      "metadata": {
        "id": "MC0YRaghlKyy"
      },
      "source": [
        "def rf_reg(X_train, X_test, y_train, y_test):\n",
        "\n",
        "  model = RandomForestRegressor(n_jobs=-1, random_state=2020)\n",
        "    \n",
        "  model.fit(X_train, y_train)\n",
        "\n",
        "  y_pred = model.predict(X_test)\n",
        "\n",
        "  print(\"R-Square Value:\", r2_score(y_test, y_pred))\n",
        "  print(\"Root Mean-Square Error:\", mean_squared_error(y_test, y_pred, squared=False))\n",
        "  print(\"Mean Absolute Error:\", mean_absolute_error(y_test, y_pred), \"\\n\")"
      ],
      "execution_count": null,
      "outputs": []
    },
    {
      "cell_type": "markdown",
      "metadata": {
        "id": "qm4D5PNbG5eT"
      },
      "source": [
        "#### Lasso"
      ]
    },
    {
      "cell_type": "code",
      "metadata": {
        "id": "fYpWCreVG8iv"
      },
      "source": [
        "def lasso(X_train, X_test, y_train, y_test):\n",
        "\n",
        "  model = Lasso(random_state=2020)\n",
        "    \n",
        "  model.fit(X_train, y_train)\n",
        "\n",
        "  y_pred = model.predict(X_test)\n",
        "\n",
        "  print(\"R-Square Value:\", r2_score(y_test, y_pred))\n",
        "  print(\"Root Mean-Square Error:\", mean_squared_error(y_test, y_pred, squared=False))\n",
        "  print(\"Mean Absolute Error:\", mean_absolute_error(y_test, y_pred), \"\\n\")"
      ],
      "execution_count": null,
      "outputs": []
    },
    {
      "cell_type": "markdown",
      "metadata": {
        "id": "BPTWm2leluUR"
      },
      "source": [
        "#### Call for all models"
      ]
    },
    {
      "cell_type": "code",
      "metadata": {
        "id": "YNxOFl32lwzs"
      },
      "source": [
        "def run_models(X_train, X_test, y_train, y_test):\n",
        "\n",
        "  print(\"Linear Regression:\")\n",
        "  linear_reg(X_train, X_test, y_train, y_test)\n",
        "\n",
        "  print(\"Polynomial Regression:\")\n",
        "  polynomial_reg(X_train, X_test, y_train, y_test)\n",
        "\n",
        "  print(\"Random-Forest Regression:\")\n",
        "  rf_reg(X_train, X_test, y_train, y_test)\n",
        "\n",
        "  print(\"Lasso:\")\n",
        "  lasso(X_train, X_test, y_train, y_test)"
      ],
      "execution_count": null,
      "outputs": []
    },
    {
      "cell_type": "markdown",
      "metadata": {
        "id": "vNjXR_RXboNZ"
      },
      "source": [
        "#### Data with Numerical Parameters"
      ]
    },
    {
      "cell_type": "code",
      "metadata": {
        "id": "btQotYu4bbPh"
      },
      "source": [
        "data_num = data[['BOOKMARK',\t'COMMENT CREATED', 'FOLLOW',\t'LIKE',\t'VIEW',\t'VIRALITY']]"
      ],
      "execution_count": null,
      "outputs": []
    },
    {
      "cell_type": "markdown",
      "metadata": {
        "id": "ZKZBtIrWb5Xe"
      },
      "source": [
        "##### Train-Test Split\n",
        "\n",
        "80% Training Data, 20% Test Data"
      ]
    },
    {
      "cell_type": "code",
      "metadata": {
        "id": "e2kdK9YWb2Vq"
      },
      "source": [
        "X_train_n, X_test_n, y_train_n, y_test_n = train_test_split(data_num[['BOOKMARK',\t'COMMENT CREATED', 'FOLLOW',\t'LIKE',\t'VIEW']], data_num['VIRALITY'], test_size=0.2, random_state = 2020)"
      ],
      "execution_count": null,
      "outputs": []
    },
    {
      "cell_type": "markdown",
      "metadata": {
        "id": "JnBGG2bw8BKr"
      },
      "source": [
        "#### Data with Numerical and Text Parameters"
      ]
    },
    {
      "cell_type": "code",
      "metadata": {
        "id": "1MW3Sx0F8I3Z"
      },
      "source": [
        "vectorizer = TfidfVectorizer(tokenizer=token_stem, max_features=100)\n",
        "\n",
        "tfidf = vectorizer.fit_transform(data['title'] + data['text'])\n",
        "tfidf_df = pd.DataFrame.sparse.from_spmatrix(tfidf)"
      ],
      "execution_count": null,
      "outputs": []
    },
    {
      "cell_type": "code",
      "metadata": {
        "id": "8el26r9VAPtW",
        "outputId": "f7891180-21ed-475f-da06-488e057314b9",
        "colab": {
          "base_uri": "https://localhost:8080/"
        }
      },
      "source": [
        "data_all = data.copy()\n",
        "\n",
        "data_all.reset_index(drop=True, inplace=True)\n",
        "data_all.drop(['text', 'title'], axis = 1, inplace=True)\n",
        "\n",
        "data_all = pd.concat([data_all, tfidf_df], axis = 1)\n",
        "\n",
        "data_all.head()"
      ],
      "execution_count": null,
      "outputs": [
        {
          "output_type": "execute_result",
          "data": {
            "text/html": [
              "<div>\n",
              "<style scoped>\n",
              "    .dataframe tbody tr th:only-of-type {\n",
              "        vertical-align: middle;\n",
              "    }\n",
              "\n",
              "    .dataframe tbody tr th {\n",
              "        vertical-align: top;\n",
              "    }\n",
              "\n",
              "    .dataframe thead th {\n",
              "        text-align: right;\n",
              "    }\n",
              "</style>\n",
              "<table border=\"1\" class=\"dataframe\">\n",
              "  <thead>\n",
              "    <tr style=\"text-align: right;\">\n",
              "      <th></th>\n",
              "      <th>BOOKMARK</th>\n",
              "      <th>COMMENT CREATED</th>\n",
              "      <th>FOLLOW</th>\n",
              "      <th>LIKE</th>\n",
              "      <th>VIEW</th>\n",
              "      <th>VIRALITY</th>\n",
              "      <th>0</th>\n",
              "      <th>1</th>\n",
              "      <th>2</th>\n",
              "      <th>3</th>\n",
              "      <th>4</th>\n",
              "      <th>5</th>\n",
              "      <th>6</th>\n",
              "      <th>7</th>\n",
              "      <th>8</th>\n",
              "      <th>9</th>\n",
              "      <th>10</th>\n",
              "      <th>11</th>\n",
              "      <th>12</th>\n",
              "      <th>13</th>\n",
              "      <th>14</th>\n",
              "      <th>15</th>\n",
              "      <th>16</th>\n",
              "      <th>17</th>\n",
              "      <th>18</th>\n",
              "      <th>19</th>\n",
              "      <th>20</th>\n",
              "      <th>21</th>\n",
              "      <th>22</th>\n",
              "      <th>23</th>\n",
              "      <th>24</th>\n",
              "      <th>25</th>\n",
              "      <th>26</th>\n",
              "      <th>27</th>\n",
              "      <th>28</th>\n",
              "      <th>29</th>\n",
              "      <th>30</th>\n",
              "      <th>31</th>\n",
              "      <th>32</th>\n",
              "      <th>33</th>\n",
              "      <th>...</th>\n",
              "      <th>60</th>\n",
              "      <th>61</th>\n",
              "      <th>62</th>\n",
              "      <th>63</th>\n",
              "      <th>64</th>\n",
              "      <th>65</th>\n",
              "      <th>66</th>\n",
              "      <th>67</th>\n",
              "      <th>68</th>\n",
              "      <th>69</th>\n",
              "      <th>70</th>\n",
              "      <th>71</th>\n",
              "      <th>72</th>\n",
              "      <th>73</th>\n",
              "      <th>74</th>\n",
              "      <th>75</th>\n",
              "      <th>76</th>\n",
              "      <th>77</th>\n",
              "      <th>78</th>\n",
              "      <th>79</th>\n",
              "      <th>80</th>\n",
              "      <th>81</th>\n",
              "      <th>82</th>\n",
              "      <th>83</th>\n",
              "      <th>84</th>\n",
              "      <th>85</th>\n",
              "      <th>86</th>\n",
              "      <th>87</th>\n",
              "      <th>88</th>\n",
              "      <th>89</th>\n",
              "      <th>90</th>\n",
              "      <th>91</th>\n",
              "      <th>92</th>\n",
              "      <th>93</th>\n",
              "      <th>94</th>\n",
              "      <th>95</th>\n",
              "      <th>96</th>\n",
              "      <th>97</th>\n",
              "      <th>98</th>\n",
              "      <th>99</th>\n",
              "    </tr>\n",
              "  </thead>\n",
              "  <tbody>\n",
              "    <tr>\n",
              "      <th>0</th>\n",
              "      <td>0</td>\n",
              "      <td>1</td>\n",
              "      <td>0</td>\n",
              "      <td>5</td>\n",
              "      <td>50</td>\n",
              "      <td>80</td>\n",
              "      <td>0.000000</td>\n",
              "      <td>0.129385</td>\n",
              "      <td>0.000000</td>\n",
              "      <td>0.00000</td>\n",
              "      <td>0.0</td>\n",
              "      <td>0.000000</td>\n",
              "      <td>0.000000</td>\n",
              "      <td>0.000000</td>\n",
              "      <td>0.000000</td>\n",
              "      <td>0.000000</td>\n",
              "      <td>0.000000</td>\n",
              "      <td>0.104597</td>\n",
              "      <td>0.082579</td>\n",
              "      <td>0.000000</td>\n",
              "      <td>0.000000</td>\n",
              "      <td>0.000000</td>\n",
              "      <td>0.000000</td>\n",
              "      <td>0.000000</td>\n",
              "      <td>0.000000</td>\n",
              "      <td>0.902081</td>\n",
              "      <td>0.154726</td>\n",
              "      <td>0.000000</td>\n",
              "      <td>0.000000</td>\n",
              "      <td>0.000000</td>\n",
              "      <td>0.000000</td>\n",
              "      <td>0.000000</td>\n",
              "      <td>0.000000</td>\n",
              "      <td>0.000000</td>\n",
              "      <td>0.000000</td>\n",
              "      <td>0.00000</td>\n",
              "      <td>0.091642</td>\n",
              "      <td>0.000000</td>\n",
              "      <td>0.0</td>\n",
              "      <td>0.000000</td>\n",
              "      <td>...</td>\n",
              "      <td>0.000000</td>\n",
              "      <td>0.000000</td>\n",
              "      <td>0.000000</td>\n",
              "      <td>0.000000</td>\n",
              "      <td>0.000000</td>\n",
              "      <td>0.000000</td>\n",
              "      <td>0.000000</td>\n",
              "      <td>0.000000</td>\n",
              "      <td>0.0</td>\n",
              "      <td>0.000000</td>\n",
              "      <td>0.000000</td>\n",
              "      <td>0.000000</td>\n",
              "      <td>0.000000</td>\n",
              "      <td>0.000000</td>\n",
              "      <td>0.000000</td>\n",
              "      <td>0.000000</td>\n",
              "      <td>0.0</td>\n",
              "      <td>0.000000</td>\n",
              "      <td>0.000000</td>\n",
              "      <td>0.000000</td>\n",
              "      <td>0.089556</td>\n",
              "      <td>0.000000</td>\n",
              "      <td>0.000000</td>\n",
              "      <td>0.000000</td>\n",
              "      <td>0.000000</td>\n",
              "      <td>0.000000</td>\n",
              "      <td>0.000000</td>\n",
              "      <td>0.000000</td>\n",
              "      <td>0.000000</td>\n",
              "      <td>0.090259</td>\n",
              "      <td>0.055328</td>\n",
              "      <td>0.082348</td>\n",
              "      <td>0.000000</td>\n",
              "      <td>0.000000</td>\n",
              "      <td>0.080761</td>\n",
              "      <td>0.000000</td>\n",
              "      <td>0.000000</td>\n",
              "      <td>0.000000</td>\n",
              "      <td>0.000000</td>\n",
              "      <td>0.000000</td>\n",
              "    </tr>\n",
              "    <tr>\n",
              "      <th>1</th>\n",
              "      <td>0</td>\n",
              "      <td>0</td>\n",
              "      <td>0</td>\n",
              "      <td>1</td>\n",
              "      <td>8</td>\n",
              "      <td>12</td>\n",
              "      <td>0.000000</td>\n",
              "      <td>0.021689</td>\n",
              "      <td>0.000000</td>\n",
              "      <td>0.00000</td>\n",
              "      <td>0.0</td>\n",
              "      <td>0.000000</td>\n",
              "      <td>0.028663</td>\n",
              "      <td>0.000000</td>\n",
              "      <td>0.000000</td>\n",
              "      <td>0.028762</td>\n",
              "      <td>0.000000</td>\n",
              "      <td>0.000000</td>\n",
              "      <td>0.000000</td>\n",
              "      <td>0.055904</td>\n",
              "      <td>0.000000</td>\n",
              "      <td>0.000000</td>\n",
              "      <td>0.000000</td>\n",
              "      <td>0.293201</td>\n",
              "      <td>0.000000</td>\n",
              "      <td>0.000000</td>\n",
              "      <td>0.000000</td>\n",
              "      <td>0.000000</td>\n",
              "      <td>0.000000</td>\n",
              "      <td>0.000000</td>\n",
              "      <td>0.000000</td>\n",
              "      <td>0.026303</td>\n",
              "      <td>0.000000</td>\n",
              "      <td>0.000000</td>\n",
              "      <td>0.000000</td>\n",
              "      <td>0.00000</td>\n",
              "      <td>0.153621</td>\n",
              "      <td>0.053297</td>\n",
              "      <td>0.0</td>\n",
              "      <td>0.000000</td>\n",
              "      <td>...</td>\n",
              "      <td>0.000000</td>\n",
              "      <td>0.000000</td>\n",
              "      <td>0.028223</td>\n",
              "      <td>0.000000</td>\n",
              "      <td>0.000000</td>\n",
              "      <td>0.270101</td>\n",
              "      <td>0.000000</td>\n",
              "      <td>0.569318</td>\n",
              "      <td>0.0</td>\n",
              "      <td>0.000000</td>\n",
              "      <td>0.000000</td>\n",
              "      <td>0.063709</td>\n",
              "      <td>0.030932</td>\n",
              "      <td>0.000000</td>\n",
              "      <td>0.029882</td>\n",
              "      <td>0.000000</td>\n",
              "      <td>0.0</td>\n",
              "      <td>0.000000</td>\n",
              "      <td>0.054123</td>\n",
              "      <td>0.032985</td>\n",
              "      <td>0.000000</td>\n",
              "      <td>0.000000</td>\n",
              "      <td>0.064945</td>\n",
              "      <td>0.000000</td>\n",
              "      <td>0.000000</td>\n",
              "      <td>0.028466</td>\n",
              "      <td>0.000000</td>\n",
              "      <td>0.045583</td>\n",
              "      <td>0.000000</td>\n",
              "      <td>0.000000</td>\n",
              "      <td>0.000000</td>\n",
              "      <td>0.082825</td>\n",
              "      <td>0.000000</td>\n",
              "      <td>0.047707</td>\n",
              "      <td>0.000000</td>\n",
              "      <td>0.000000</td>\n",
              "      <td>0.000000</td>\n",
              "      <td>0.031066</td>\n",
              "      <td>0.084477</td>\n",
              "      <td>0.000000</td>\n",
              "    </tr>\n",
              "    <tr>\n",
              "      <th>2</th>\n",
              "      <td>2</td>\n",
              "      <td>0</td>\n",
              "      <td>0</td>\n",
              "      <td>1</td>\n",
              "      <td>33</td>\n",
              "      <td>237</td>\n",
              "      <td>0.000000</td>\n",
              "      <td>0.013844</td>\n",
              "      <td>0.083179</td>\n",
              "      <td>0.28148</td>\n",
              "      <td>0.0</td>\n",
              "      <td>0.136445</td>\n",
              "      <td>0.073183</td>\n",
              "      <td>0.040435</td>\n",
              "      <td>0.029363</td>\n",
              "      <td>0.045898</td>\n",
              "      <td>0.013464</td>\n",
              "      <td>0.000000</td>\n",
              "      <td>0.035344</td>\n",
              "      <td>0.142736</td>\n",
              "      <td>0.011768</td>\n",
              "      <td>0.018434</td>\n",
              "      <td>0.025599</td>\n",
              "      <td>0.145563</td>\n",
              "      <td>0.073692</td>\n",
              "      <td>0.021450</td>\n",
              "      <td>0.157280</td>\n",
              "      <td>0.154356</td>\n",
              "      <td>0.000000</td>\n",
              "      <td>0.172693</td>\n",
              "      <td>0.011707</td>\n",
              "      <td>0.025184</td>\n",
              "      <td>0.103170</td>\n",
              "      <td>0.028106</td>\n",
              "      <td>0.090183</td>\n",
              "      <td>0.02969</td>\n",
              "      <td>0.009806</td>\n",
              "      <td>0.051030</td>\n",
              "      <td>0.0</td>\n",
              "      <td>0.019708</td>\n",
              "      <td>...</td>\n",
              "      <td>0.042756</td>\n",
              "      <td>0.059343</td>\n",
              "      <td>0.135112</td>\n",
              "      <td>0.000000</td>\n",
              "      <td>0.097838</td>\n",
              "      <td>0.183183</td>\n",
              "      <td>0.030694</td>\n",
              "      <td>0.109020</td>\n",
              "      <td>0.0</td>\n",
              "      <td>0.046218</td>\n",
              "      <td>0.010632</td>\n",
              "      <td>0.030500</td>\n",
              "      <td>0.059233</td>\n",
              "      <td>0.058070</td>\n",
              "      <td>0.028610</td>\n",
              "      <td>0.009583</td>\n",
              "      <td>0.0</td>\n",
              "      <td>0.022935</td>\n",
              "      <td>0.043184</td>\n",
              "      <td>0.000000</td>\n",
              "      <td>0.009583</td>\n",
              "      <td>0.041860</td>\n",
              "      <td>0.072546</td>\n",
              "      <td>0.062956</td>\n",
              "      <td>0.023104</td>\n",
              "      <td>0.372485</td>\n",
              "      <td>0.274322</td>\n",
              "      <td>0.043644</td>\n",
              "      <td>0.000000</td>\n",
              "      <td>0.009658</td>\n",
              "      <td>0.183524</td>\n",
              "      <td>0.008811</td>\n",
              "      <td>0.046583</td>\n",
              "      <td>0.167484</td>\n",
              "      <td>0.138264</td>\n",
              "      <td>0.101229</td>\n",
              "      <td>0.117086</td>\n",
              "      <td>0.168555</td>\n",
              "      <td>0.062909</td>\n",
              "      <td>0.061679</td>\n",
              "    </tr>\n",
              "    <tr>\n",
              "      <th>3</th>\n",
              "      <td>1</td>\n",
              "      <td>0</td>\n",
              "      <td>0</td>\n",
              "      <td>0</td>\n",
              "      <td>4</td>\n",
              "      <td>104</td>\n",
              "      <td>0.000000</td>\n",
              "      <td>0.040832</td>\n",
              "      <td>0.000000</td>\n",
              "      <td>0.00000</td>\n",
              "      <td>0.0</td>\n",
              "      <td>0.000000</td>\n",
              "      <td>0.000000</td>\n",
              "      <td>0.000000</td>\n",
              "      <td>0.057735</td>\n",
              "      <td>0.000000</td>\n",
              "      <td>0.000000</td>\n",
              "      <td>0.000000</td>\n",
              "      <td>0.104242</td>\n",
              "      <td>0.000000</td>\n",
              "      <td>0.000000</td>\n",
              "      <td>0.054368</td>\n",
              "      <td>0.000000</td>\n",
              "      <td>0.000000</td>\n",
              "      <td>0.000000</td>\n",
              "      <td>0.126525</td>\n",
              "      <td>0.097657</td>\n",
              "      <td>0.053559</td>\n",
              "      <td>0.465918</td>\n",
              "      <td>0.000000</td>\n",
              "      <td>0.000000</td>\n",
              "      <td>0.099035</td>\n",
              "      <td>0.060857</td>\n",
              "      <td>0.000000</td>\n",
              "      <td>0.000000</td>\n",
              "      <td>0.00000</td>\n",
              "      <td>0.000000</td>\n",
              "      <td>0.000000</td>\n",
              "      <td>0.0</td>\n",
              "      <td>0.000000</td>\n",
              "      <td>...</td>\n",
              "      <td>0.000000</td>\n",
              "      <td>0.000000</td>\n",
              "      <td>0.053132</td>\n",
              "      <td>0.000000</td>\n",
              "      <td>0.769487</td>\n",
              "      <td>0.000000</td>\n",
              "      <td>0.000000</td>\n",
              "      <td>0.000000</td>\n",
              "      <td>0.0</td>\n",
              "      <td>0.000000</td>\n",
              "      <td>0.000000</td>\n",
              "      <td>0.119938</td>\n",
              "      <td>0.000000</td>\n",
              "      <td>0.146801</td>\n",
              "      <td>0.056255</td>\n",
              "      <td>0.000000</td>\n",
              "      <td>0.0</td>\n",
              "      <td>0.000000</td>\n",
              "      <td>0.000000</td>\n",
              "      <td>0.062097</td>\n",
              "      <td>0.000000</td>\n",
              "      <td>0.000000</td>\n",
              "      <td>0.000000</td>\n",
              "      <td>0.000000</td>\n",
              "      <td>0.000000</td>\n",
              "      <td>0.053590</td>\n",
              "      <td>0.000000</td>\n",
              "      <td>0.000000</td>\n",
              "      <td>0.000000</td>\n",
              "      <td>0.000000</td>\n",
              "      <td>0.104763</td>\n",
              "      <td>0.051975</td>\n",
              "      <td>0.000000</td>\n",
              "      <td>0.044906</td>\n",
              "      <td>0.000000</td>\n",
              "      <td>0.000000</td>\n",
              "      <td>0.000000</td>\n",
              "      <td>0.058485</td>\n",
              "      <td>0.000000</td>\n",
              "      <td>0.000000</td>\n",
              "    </tr>\n",
              "    <tr>\n",
              "      <th>4</th>\n",
              "      <td>0</td>\n",
              "      <td>0</td>\n",
              "      <td>0</td>\n",
              "      <td>0</td>\n",
              "      <td>5</td>\n",
              "      <td>5</td>\n",
              "      <td>0.047529</td>\n",
              "      <td>0.065749</td>\n",
              "      <td>0.000000</td>\n",
              "      <td>0.00000</td>\n",
              "      <td>0.0</td>\n",
              "      <td>0.000000</td>\n",
              "      <td>0.000000</td>\n",
              "      <td>0.000000</td>\n",
              "      <td>0.000000</td>\n",
              "      <td>0.043596</td>\n",
              "      <td>0.191834</td>\n",
              "      <td>0.000000</td>\n",
              "      <td>0.041964</td>\n",
              "      <td>0.000000</td>\n",
              "      <td>0.167668</td>\n",
              "      <td>0.000000</td>\n",
              "      <td>0.000000</td>\n",
              "      <td>0.049379</td>\n",
              "      <td>0.000000</td>\n",
              "      <td>0.152803</td>\n",
              "      <td>0.039313</td>\n",
              "      <td>0.129365</td>\n",
              "      <td>0.000000</td>\n",
              "      <td>0.000000</td>\n",
              "      <td>0.166791</td>\n",
              "      <td>0.000000</td>\n",
              "      <td>0.000000</td>\n",
              "      <td>0.000000</td>\n",
              "      <td>0.000000</td>\n",
              "      <td>0.00000</td>\n",
              "      <td>0.000000</td>\n",
              "      <td>0.000000</td>\n",
              "      <td>0.0</td>\n",
              "      <td>0.046798</td>\n",
              "      <td>...</td>\n",
              "      <td>0.000000</td>\n",
              "      <td>0.000000</td>\n",
              "      <td>0.000000</td>\n",
              "      <td>0.269379</td>\n",
              "      <td>0.000000</td>\n",
              "      <td>0.000000</td>\n",
              "      <td>0.000000</td>\n",
              "      <td>0.043146</td>\n",
              "      <td>0.0</td>\n",
              "      <td>0.087800</td>\n",
              "      <td>0.050494</td>\n",
              "      <td>0.193131</td>\n",
              "      <td>0.000000</td>\n",
              "      <td>0.118193</td>\n",
              "      <td>0.090584</td>\n",
              "      <td>0.000000</td>\n",
              "      <td>0.0</td>\n",
              "      <td>0.000000</td>\n",
              "      <td>0.041017</td>\n",
              "      <td>0.049996</td>\n",
              "      <td>0.136528</td>\n",
              "      <td>0.159041</td>\n",
              "      <td>0.000000</td>\n",
              "      <td>0.049832</td>\n",
              "      <td>0.219446</td>\n",
              "      <td>0.000000</td>\n",
              "      <td>0.048252</td>\n",
              "      <td>0.379998</td>\n",
              "      <td>0.050968</td>\n",
              "      <td>0.000000</td>\n",
              "      <td>0.168695</td>\n",
              "      <td>0.125539</td>\n",
              "      <td>0.000000</td>\n",
              "      <td>0.036155</td>\n",
              "      <td>0.000000</td>\n",
              "      <td>0.120189</td>\n",
              "      <td>0.000000</td>\n",
              "      <td>0.000000</td>\n",
              "      <td>0.000000</td>\n",
              "      <td>0.000000</td>\n",
              "    </tr>\n",
              "  </tbody>\n",
              "</table>\n",
              "<p>5 rows × 106 columns</p>\n",
              "</div>"
            ],
            "text/plain": [
              "   BOOKMARK  COMMENT CREATED  FOLLOW  ...        97        98        99\n",
              "0         0                1       0  ...  0.000000  0.000000  0.000000\n",
              "1         0                0       0  ...  0.031066  0.084477  0.000000\n",
              "2         2                0       0  ...  0.168555  0.062909  0.061679\n",
              "3         1                0       0  ...  0.058485  0.000000  0.000000\n",
              "4         0                0       0  ...  0.000000  0.000000  0.000000\n",
              "\n",
              "[5 rows x 106 columns]"
            ]
          },
          "metadata": {
            "tags": []
          },
          "execution_count": 30
        }
      ]
    },
    {
      "cell_type": "markdown",
      "metadata": {
        "id": "Cejzu2f2E7Ba"
      },
      "source": [
        "##### Train-Test Split\n",
        "\n",
        "80% Training Data, 20% Test Data"
      ]
    },
    {
      "cell_type": "code",
      "metadata": {
        "id": "WhfGyAZOE-hV"
      },
      "source": [
        "cols = list(data_all.columns)\n",
        "cols.remove('VIRALITY')\n",
        "\n",
        "X_train_nt, X_test_nt, y_train_nt, y_test_nt = train_test_split(data_all[cols], data_all['VIRALITY'], test_size=0.2, random_state = 2020)"
      ],
      "execution_count": null,
      "outputs": []
    },
    {
      "cell_type": "markdown",
      "metadata": {
        "id": "EAGWQktT7U9H"
      },
      "source": [
        "#### Run Models with Numerical Values"
      ]
    },
    {
      "cell_type": "code",
      "metadata": {
        "id": "Qy8TeSvZexE2",
        "outputId": "1f90fe22-ccce-4b13-fb8d-18b7eb8e43be",
        "colab": {
          "base_uri": "https://localhost:8080/"
        }
      },
      "source": [
        "run_models(X_train_n, X_test_n, y_train_n, y_test_n)"
      ],
      "execution_count": null,
      "outputs": [
        {
          "output_type": "stream",
          "text": [
            "Linear Regression:\n",
            "R-Square Value: 1.0\n",
            "Root Mean-Square Error: 1.6947611102931463e-13\n",
            "Mean Absolute Error: 1.0771951805995635e-13 \n",
            "\n",
            "Polynomial Regression:\n",
            "R-Square Value: 1.0\n",
            "Root Mean-Square Error: 5.81519588348364e-12\n",
            "Mean Absolute Error: 3.8789540055436086e-12 \n",
            "\n",
            "Random-Forest Regression:\n",
            "R-Square Value: 0.9897210705906804\n",
            "Root Mean-Square Error: 20.39898204254549\n",
            "Mean Absolute Error: 4.552465116279071 \n",
            "\n",
            "Lasso:\n",
            "R-Square Value: 0.9999515752706049\n",
            "Root Mean-Square Error: 1.4001293357684252\n",
            "Mean Absolute Error: 0.843623856274001 \n",
            "\n"
          ],
          "name": "stdout"
        }
      ]
    },
    {
      "cell_type": "markdown",
      "metadata": {
        "id": "i-FE3YlE8TSK"
      },
      "source": [
        "#### Run Models with Numerical and Text Values"
      ]
    },
    {
      "cell_type": "code",
      "metadata": {
        "id": "XZmrfgB08TSN",
        "outputId": "f34c527e-7b1e-4cb6-8e6a-2e29494f43dc",
        "colab": {
          "base_uri": "https://localhost:8080/",
          "height": 372
        }
      },
      "source": [
        "run_models(X_train_nt, X_test_nt, y_train_nt, y_test_nt)"
      ],
      "execution_count": null,
      "outputs": [
        {
          "output_type": "stream",
          "text": [
            "Linear Regression:\n",
            "R-Square Value: 1.0\n",
            "Root Mean-Square Error: 2.7331602770420595e-12\n",
            "Mean Absolute Error: 1.903684961606296e-12 \n",
            "\n",
            "Polynomial Regression:\n",
            "R-Square Value: 0.9999986141612645\n",
            "Root Mean-Square Error: 0.23685955113821153\n",
            "Mean Absolute Error: 0.13073436318995293 \n",
            "\n",
            "Random-Forest Regression:\n",
            "R-Square Value: 0.931605899001929\n",
            "Root Mean-Square Error: 52.6191558474005\n",
            "Mean Absolute Error: 9.221418604651161 \n",
            "\n",
            "Lasso:\n",
            "R-Square Value: 0.9999515752706049\n",
            "Root Mean-Square Error: 1.4001293357684246\n",
            "Mean Absolute Error: 0.8436238562740009 \n",
            "\n"
          ],
          "name": "stdout"
        }
      ]
    }
  ]
}